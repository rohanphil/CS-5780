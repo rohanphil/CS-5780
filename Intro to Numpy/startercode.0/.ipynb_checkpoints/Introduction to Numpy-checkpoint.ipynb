{
 "cells": [
  {
   "cell_type": "markdown",
   "metadata": {},
   "source": [
    "<h1>Project -1: Introduction to NumPy</h1>"
   ]
  },
  {
   "cell_type": "markdown",
   "metadata": {},
   "source": [
    "<h2>Introduction</h2>\n",
    "\n",
    "<p>This activity aims to introduce you to Numpy - a package for scientific computing with Python that we will use extensively in this class. This activity is by no means a complete tutorial on NumPy but it should be enough for you to do most of projects and activities in this class. For more information, please see NumPy's <a href=\"https://docs.scipy.org/doc/numpy/user/quickstart.html\">official tutorial</a> and <a href='https://docs.scipy.org/doc/numpy/reference/index.html'>API</a>. To use NumPy, first import the package as what we do in the following cell:</p>"
   ]
  },
  {
   "cell_type": "code",
   "execution_count": 1,
   "metadata": {
    "nbgrader": {
     "grade": false,
     "locked": false,
     "solution": false
    }
   },
   "outputs": [],
   "source": [
    "import numpy as np"
   ]
  },
  {
   "cell_type": "markdown",
   "metadata": {},
   "source": [
    "<h2>Creating Vectors and Matrices</h2>\n",
    "\n",
    "<p> NumPy's main object is a multidimensional array, in other words, a table of the same data type. Let's see an example on how to create an NumPy array:  </p>"
   ]
  },
  {
   "cell_type": "code",
   "execution_count": 2,
   "metadata": {},
   "outputs": [
    {
     "data": {
      "text/plain": [
       "array([[1, 2, 3],\n",
       "       [4, 5, 6]])"
      ]
     },
     "execution_count": 2,
     "metadata": {},
     "output_type": "execute_result"
    }
   ],
   "source": [
    "X = np.array([[1,2,3], [4,5,6]])\n",
    "X"
   ]
  },
  {
   "cell_type": "markdown",
   "metadata": {},
   "source": [
    "In the cell above, we created a two dimensional table, a.k.a, a matrix of size $2 \\times 3$. To create an array, what you need to do is to pass in a list of objects into the function [np.array()](https://docs.scipy.org/doc/numpy/reference/generated/numpy.array.html). Now that we have shown you how to create a matrix, you might have wondered how we can represent a vector in NumPy. There are three ways to represent a vector in NumPy. In the cell below we are using the function [.reshape()](https://docs.scipy.org/doc/numpy/reference/generated/numpy.reshape.html) to specify the length of the 2-D array in each dimension."
   ]
  },
  {
   "cell_type": "code",
   "execution_count": 3,
   "metadata": {},
   "outputs": [
    {
     "name": "stdout",
     "output_type": "stream",
     "text": [
      "This is a numpy vector:[3 4 5]. It's shape is (3,)\n",
      "This is a column vector (matrix):\n",
      "[[3]\n",
      " [4]\n",
      " [5]]. It's shape is (3, 1)\n",
      "This is a row vector (matrix):[[3 4 5]]. It's shape is (1, 3)\n"
     ]
    }
   ],
   "source": [
    "v1=np.array([3,4,5])\n",
    "print(\"This is a numpy vector:{}. It's shape is {}\".format(v1, v1.shape))\n",
    "v2=v1.reshape((3,1))\n",
    "print(\"This is a column vector (matrix):\\n{}. It's shape is {}\".format(v2, v2.shape))\n",
    "v3=v1.reshape((1,3))\n",
    "print(\"This is a row vector (matrix):{}. It's shape is {}\".format(v3,v3.shape))"
   ]
  },
  {
   "cell_type": "markdown",
   "metadata": {},
   "source": [
    "<p><p>These three representation are usually not compatible. Some operations will still work, but not in the way we expect. </p> We will always prefer the vector notation. You can transform any (matrix) vector into a numpy vector with [.flatten()](https://docs.scipy.org/doc/numpy/reference/generated/numpy.ndarray.flatten.html).</p>"
   ]
  },
  {
   "cell_type": "code",
   "execution_count": 4,
   "metadata": {},
   "outputs": [
    {
     "name": "stdout",
     "output_type": "stream",
     "text": [
      "The sum of a column vector and numpy vector:\n",
      "[[ 6  7  8]\n",
      " [ 7  8  9]\n",
      " [ 8  9 10]]\n",
      "The expected result of summing two numpy vectors: [ 6  8 10]\n"
     ]
    }
   ],
   "source": [
    "#We add v1 and v2 but the output is not as expected\n",
    "v4=v2+v1\n",
    "print('The sum of a column vector and numpy vector:\\n{}'.format(v4))\n",
    "v5 = v2.flatten() + v1 \n",
    "print('The expected result of summing two numpy vectors: {}'.format(v5))"
   ]
  },
  {
   "cell_type": "markdown",
   "metadata": {},
   "source": [
    "Numpy arrays, as objects, pass by reference.  This means that when you set return an array, you're returning a pointer (reference) to the real array in memory, and doing operations on the array will modify its values for every variable pointing to the array.  Because of this, numpy provides a [.copy()](https://numpy.org/doc/stable/reference/generated/numpy.copy.html) function, which will create a completely new array with the same values so that you can safely edit variables independently.\n"
   ]
  },
  {
   "cell_type": "code",
   "execution_count": 5,
   "metadata": {},
   "outputs": [
    {
     "name": "stdout",
     "output_type": "stream",
     "text": [
      "Array a: [1 2 3]\n",
      "Array b (passed by reference): [1 2 3]\n",
      "Array c (passed by value): [1 2 3]\n",
      "Array a after editing a: [5 2 3]\n",
      "Array b after editing a: [5 2 3]\n",
      "Array c after editing a: [1 2 3]\n"
     ]
    }
   ],
   "source": [
    "a = np.array([1,2,3])\n",
    "b = a\n",
    "c = a.copy()\n",
    "print('Array a: {}'.format(a))\n",
    "print('Array b (passed by reference): {}'.format(b))\n",
    "print('Array c (passed by value): {}'.format(c))\n",
    "a[0] = 5\n",
    "print('Array a after editing a: {}'.format(a))\n",
    "print('Array b after editing a: {}'.format(b))\n",
    "print('Array c after editing a: {}'.format(c))"
   ]
  },
  {
   "cell_type": "markdown",
   "metadata": {},
   "source": [
    "### Axes\n",
    "\n",
    "Numpy defines axes for arrays by giving them a number, so that functions can act along a certain dimension on the array. \n",
    "\n",
    "For a 1 dimensional array the axis is defined as <br>\n",
    "$\\left[\\begin{array}{ccc}\n",
    "axis0 → & 0 & 0 \\\\\n",
    "\\end{array}\\right]$\n",
    "\n",
    "For a 2 dimensional array the axis are defined as <br>\n",
    "$\\left[\\begin{array}{ccc}\n",
    "0 & axis 1 → & 0 \\\\\n",
    "axis 0  & 0  & 0 \\\\\n",
    "↓ & 0  & 0 \\\\\n",
    "0 & 0  & 0 \\\\\n",
    "\\end{array}\\right]$\n",
    "\n",
    "The same pattern continues when more dimensions are added.\n",
    "\n",
    "When you want to apply a function along a particular axis, you pass the axis number into the numpy function as an optional argument \"axis=...\" If you set axis=-1 it uses the last axis. For example, if there are three axis then axis=-1 is equivalent to axis=2. \n",
    "\n",
    "An example of using the axis argument with the sum function is below. This function sums up the matrix elements along the given axis. "
   ]
  },
  {
   "cell_type": "code",
   "execution_count": 6,
   "metadata": {},
   "outputs": [
    {
     "name": "stdout",
     "output_type": "stream",
     "text": [
      "Original matrix: \n",
      "[[ 1 -1]\n",
      " [ 1 -1]\n",
      " [ 1 -1]]\n",
      "Summed along axis = 0: \n",
      "[ 3 -3]\n",
      "Summed along axis = 1: \n",
      "[0 0 0]\n",
      "Summed along axis = -1, which is the same as the last axis=1: \n",
      "[0 0 0]\n"
     ]
    }
   ],
   "source": [
    "A = np.array([[1,-1],[1,-1],[1,-1]])\n",
    "print('Original matrix: \\n{}'.format(A))\n",
    "print('Summed along axis = 0: \\n{}'.format(np.sum(A, axis=0)))\n",
    "print('Summed along axis = 1: \\n{}'.format(np.sum(A, axis=1)))\n",
    "print('Summed along axis = -1, which is the same as the last axis=1: \\n{}'.format(np.sum(A, axis = -1)))"
   ]
  },
  {
   "cell_type": "markdown",
   "metadata": {},
   "source": [
    "### Broadcasting\n",
    "\n",
    "Numpy can automatically change the shapes of arrays if you try to complete an operation where the shapes of input arrays do not match up. Numpy will \"broadcast\" the smaller array axes along the larger array so they have compatible shapes.\n",
    "\n",
    "The way this works is that numpy checks the length of all the dimensions from right to left (largest axis to smallest) to see if they match. If the dimensions do not match broadcasting is applied.\n",
    "\n",
    "This is confusing at first but and can be more easily understood by [reading the numpy documentation and looking at examples](https://numpy.org/doc/stable/user/basics.broadcasting.html)!\n",
    "\n",
    "Broadcasting can be very useful in simplifying your code, but it is a double edged sword. It can lead to mistakes when your code compiles and works correctly because broadcasting was used under the hood, but in reality your dimensions were not matching up correctly! \n",
    "\n"
   ]
  },
  {
   "cell_type": "code",
   "execution_count": 7,
   "metadata": {},
   "outputs": [
    {
     "name": "stdout",
     "output_type": "stream",
     "text": [
      "Original matrix X: \n",
      "[[1 2 3]\n",
      " [4 5 6]]\n",
      "Matrix Y with mismatched dimension 0: \n",
      "[[ 0  5 10]]\n",
      "X+Y using broadcasting: \n",
      "[[ 1  7 13]\n",
      " [ 4 10 16]]\n",
      "Matrix Z with mismatched dimension 1: \n",
      "[[-10]\n",
      " [ 10]]\n",
      "X+Z using broadcasting: \n",
      "[[-9 -8 -7]\n",
      " [14 15 16]]\n",
      "Matrix V with missing dimension 0: \n",
      "[ 0  5 10]\n",
      "Adding X+V using broadcasting: \n",
      "[[ 1  7 13]\n",
      " [ 4 10 16]]\n"
     ]
    }
   ],
   "source": [
    "# If one of the arrays has an axis length 1, then the length 1 axis is broadcast to match the shape of the larger axis.\n",
    "print('Original matrix X: \\n{}'.format(X))\n",
    "Y = np.array([[0, 5, 10]])\n",
    "print('Matrix Y with mismatched dimension 0: \\n{}'.format(Y))\n",
    "print('X+Y using broadcasting: \\n{}'.format(X + Y))\n",
    "Z = np.array([[-10],[10]])\n",
    "print('Matrix Z with mismatched dimension 1: \\n{}'.format(Z))\n",
    "print('X+Z using broadcasting: \\n{}'.format(X + Z))\n",
    "# If one of the array dimensions does not exist, then the operation applies elementwise along the axis that exists. \n",
    "V = np.array([0, 5, 10])\n",
    "print('Matrix V with missing dimension 0: \\n{}'.format(V))\n",
    "print('Adding X+V using broadcasting: \\n{}'.format(X + V))\n",
    "\n",
    "# If both the axis exist but are different length then the operation fails!!!"
   ]
  },
  {
   "cell_type": "markdown",
   "metadata": {},
   "source": [
    "### Concatenation\n",
    "\n",
    "Numpy arrays can also be concatenated in various ways.  This particular feature often requires practice to feel natural; however, the [concatenate](https://numpy.org/doc/stable/reference/generated/numpy.concatenate.html) function can concatenate any number of arrays along any axis."
   ]
  },
  {
   "cell_type": "code",
   "execution_count": 8,
   "metadata": {},
   "outputs": [
    {
     "name": "stdout",
     "output_type": "stream",
     "text": [
      "First matrix: \n",
      "[[1 2 3]\n",
      " [4 5 6]]\n",
      "Second matrix: \n",
      "[[ 7  8  9]\n",
      " [10 11 12]]\n",
      "Concatenated matrices (first axis is default): \n",
      "[[ 1  2  3]\n",
      " [ 4  5  6]\n",
      " [ 7  8  9]\n",
      " [10 11 12]]\n",
      "Concatenated along the second axis: \n",
      "[[ 1  2  3  7  8  9]\n",
      " [ 4  5  6 10 11 12]]\n"
     ]
    }
   ],
   "source": [
    "a = np.array([[1,2,3],[4,5,6]])\n",
    "b = np.array([[7,8,9],[10,11,12]])\n",
    "\n",
    "print('First matrix: \\n{}'.format(a))\n",
    "print('Second matrix: \\n{}'.format(b))\n",
    "print('Concatenated matrices (first axis is default): \\n{}'.format(np.concatenate((a, b))))\n",
    "print('Concatenated along the second axis: \\n{}'.format(np.concatenate((a, b), axis=-1)))"
   ]
  },
  {
   "cell_type": "markdown",
   "metadata": {},
   "source": [
    "<h3> Attributes of Numpy Arrays </h3>\n",
    "\n",
    "Three important attributes of NumPy array are [.shape](https://docs.scipy.org/doc/numpy/reference/generated/numpy.ndarray.shape.html), [.ndim](https://docs.scipy.org/doc/numpy/reference/generated/numpy.ndarray.ndim.html), and [.size](https://docs.scipy.org/doc/numpy/reference/generated/numpy.ndarray.size.html): "
   ]
  },
  {
   "cell_type": "code",
   "execution_count": 9,
   "metadata": {},
   "outputs": [
    {
     "name": "stdout",
     "output_type": "stream",
     "text": [
      "The shape of X: (2, 3)\n",
      "The dimension of X: 2\n",
      "The size of X: 6\n"
     ]
    }
   ],
   "source": [
    "# the shape of an array\n",
    "print(\"The shape of X: {}\".format(X.shape))\n",
    "\n",
    "# the dimension of an array\n",
    "print(\"The dimension of X: {}\".format(X.ndim))\n",
    "\n",
    "#total number of elements of an array\n",
    "print(\"The size of X: {}\".format(X.size))"
   ]
  },
  {
   "cell_type": "markdown",
   "metadata": {},
   "source": [
    "<h3>Common Arrays</h3>\n",
    "\n",
    "There are also functions for creating common matrices such as [eye()](https://docs.scipy.org/doc/numpy/reference/generated/numpy.eye.html), [zeros()](https://docs.scipy.org/doc/numpy/reference/generated/numpy.zeros.html), and [arange()](https://docs.scipy.org/doc/numpy/reference/generated/numpy.arange.html). Eye() creates an identity matrix, zero() creates a matrix of all zeros, and arange() creates a vector of equally spaced values."
   ]
  },
  {
   "cell_type": "code",
   "execution_count": 10,
   "metadata": {},
   "outputs": [
    {
     "name": "stdout",
     "output_type": "stream",
     "text": [
      "Identity matrix of length 3:\n",
      " [[1. 0. 0.]\n",
      " [0. 1. 0.]\n",
      " [0. 0. 1.]]\n",
      "Zero matrix of shape 2 by 3:\n",
      " [[0. 0. 0.]\n",
      " [0. 0. 0.]]\n",
      "Vector incrementing by 2 each element:\n",
      " [1 3 5 7 9]\n"
     ]
    }
   ],
   "source": [
    "print('Identity matrix of length 3:\\n {}'.format(np.eye(3)))\n",
    "print('Zero matrix of shape 2 by 3:\\n {}'.format(np.zeros([2,3])))\n",
    "print('Vector incrementing by 2 each element:\\n {}'.format(np.arange(1,11,2)))"
   ]
  },
  {
   "cell_type": "markdown",
   "metadata": {},
   "source": [
    "<h2>Matrix Operations</h2>\n",
    "<p>In this section we will cover matrix functions that you will find useful in future projects. In many instances rather than writing functions from scratch there will be preexisting numpy functions which are faster and will save you time.</p> "
   ]
  },
  {
   "cell_type": "code",
   "execution_count": 11,
   "metadata": {},
   "outputs": [],
   "source": [
    "# Create some matrices\n",
    "X = np.array([[1,2], [3,4]])\n",
    "Y = np.array([[5,6], [7,8]])\n",
    "A = np.array([[1,2,3,4], [7,8,9,10]])\n",
    "B = np.array([[4,5,6,7], [1,2,3,4]])"
   ]
  },
  {
   "cell_type": "markdown",
   "metadata": {},
   "source": [
    "To perform matrix multiplication use [np.dot()](https://docs.scipy.org/doc/numpy/reference/generated/numpy.dot.html) or the @ symbol. Using the traditional Python multiplication will multiply the values of the matrix element-wise."
   ]
  },
  {
   "cell_type": "code",
   "execution_count": 12,
   "metadata": {},
   "outputs": [
    {
     "name": "stdout",
     "output_type": "stream",
     "text": [
      "X: \n",
      "[[1 2]\n",
      " [3 4]]\n",
      "Y: \n",
      "[[5 6]\n",
      " [7 8]]\n",
      "Element-wise multiplication:\n",
      "[[ 5 12]\n",
      " [21 32]]\n",
      "Matrix multiplication:\n",
      "[[19 22]\n",
      " [43 50]]\n",
      "Alternative syntax for matrix multiplication:\n",
      "[[19 22]\n",
      " [43 50]]\n"
     ]
    }
   ],
   "source": [
    "print('X: \\n{}'.format(X))\n",
    "print('Y: \\n{}'.format(Y))\n",
    "print('Element-wise multiplication:\\n{}'.format(X*Y))\n",
    "print('Matrix multiplication:\\n{}'.format(np.dot(X,Y)))\n",
    "print('Alternative syntax for matrix multiplication:\\n{}'.format(X @ Y))"
   ]
  },
  {
   "cell_type": "markdown",
   "metadata": {},
   "source": [
    "The [outer](https://numpy.org/doc/stable/reference/generated/numpy.outer.html) function can be applied to perform the outer product of two vectors."
   ]
  },
  {
   "cell_type": "code",
   "execution_count": 13,
   "metadata": {},
   "outputs": [
    {
     "name": "stdout",
     "output_type": "stream",
     "text": [
      "a: [0 1 2]\n",
      "b: [3 4 5]\n",
      "Outer product: \n",
      "[[ 0  0  0]\n",
      " [ 3  4  5]\n",
      " [ 6  8 10]]\n"
     ]
    }
   ],
   "source": [
    "a = np.arange(3)\n",
    "b = np.arange(3,6)\n",
    "print('a: {}'.format(a))\n",
    "print('b: {}'.format(b))\n",
    "print('Outer product: \\n{}'.format(np.outer(a,b)))"
   ]
  },
  {
   "cell_type": "markdown",
   "metadata": {},
   "source": [
    "There are more niche element-wise functions as well such as [np.maximum](https://numpy.org/doc/stable/reference/generated/numpy.maximum.html), which return an array where every index holds the maximum of the values at that index in the two input arrays."
   ]
  },
  {
   "cell_type": "code",
   "execution_count": 14,
   "metadata": {},
   "outputs": [
    {
     "name": "stdout",
     "output_type": "stream",
     "text": [
      "A: \n",
      "[[ 1  2  3  4]\n",
      " [ 7  8  9 10]]\n",
      "B: \n",
      "[[4 5 6 7]\n",
      " [1 2 3 4]]\n",
      "Element-wise maximum:\n",
      "[[ 4  5  6  7]\n",
      " [ 7  8  9 10]]\n"
     ]
    }
   ],
   "source": [
    "print('A: \\n{}'.format(A))\n",
    "print('B: \\n{}'.format(B))\n",
    "print('Element-wise maximum:\\n{}'.format(np.maximum(A, B)))"
   ]
  },
  {
   "cell_type": "markdown",
   "metadata": {},
   "source": [
    "To tranpose a matrix use [.transpose()](https://docs.scipy.org/doc/numpy/reference/generated/numpy.transpose.html). An alternative and more concise syntax is .T. "
   ]
  },
  {
   "cell_type": "code",
   "execution_count": 15,
   "metadata": {},
   "outputs": [
    {
     "name": "stdout",
     "output_type": "stream",
     "text": [
      "B transposed:\n",
      " [[4 1]\n",
      " [5 2]\n",
      " [6 3]\n",
      " [7 4]]\n",
      "Alternative syntax for transpose:\n",
      " [[4 1]\n",
      " [5 2]\n",
      " [6 3]\n",
      " [7 4]]\n"
     ]
    }
   ],
   "source": [
    "print('B transposed:\\n', B.transpose())\n",
    "print('Alternative syntax for transpose:\\n', B.T)"
   ]
  },
  {
   "cell_type": "markdown",
   "metadata": {},
   "source": [
    "### Exercise 1"
   ]
  },
  {
   "cell_type": "markdown",
   "metadata": {},
   "source": [
    "<p>Use NumPy to calculate $AB^T-Y$. The output should be: $[[ 55,  24],\n",
    "       [185,  82]]$</p>"
   ]
  },
  {
   "cell_type": "code",
   "execution_count": 17,
   "metadata": {},
   "outputs": [
    {
     "data": {
      "text/plain": [
       "array([[ 55,  24],\n",
       "       [185,  82]])"
      ]
     },
     "execution_count": 17,
     "metadata": {},
     "output_type": "execute_result"
    }
   ],
   "source": [
    "###INSERT CODE HERE###\n",
    "###INSERT CODE HERE###\n",
    "np.dot(A,B.T) - Y"
   ]
  },
  {
   "cell_type": "markdown",
   "metadata": {},
   "source": [
    "<h3>Other matrix operations </h3>\n",
    "\n",
    "Other useful functions to use in your projects are [np.amax()](https://docs.scipy.org/doc/numpy/reference/generated/numpy.amax.html#numpy.amax), [np.amin()](https://docs.scipy.org/doc/numpy/reference/generated/numpy.amin.html), [np.argmax()](https://docs.scipy.org/doc/numpy/reference/generated/numpy.argmax.html), and [np.argmin()](https://docs.scipy.org/doc/numpy/reference/generated/numpy.argmin.html). Note that with all of these functions we can specify the axis along which we want to perform the operation. If no axis is specified the above functions will perform the operation across all dimensions."
   ]
  },
  {
   "cell_type": "code",
   "execution_count": 18,
   "metadata": {},
   "outputs": [
    {
     "name": "stdout",
     "output_type": "stream",
     "text": [
      "X:\n",
      "[[1 2]\n",
      " [3 4]]\n",
      "Largest element in X: 4\n",
      "Largest elements along the first axis: [3 4]\n",
      "Smallest element in X: 1\n",
      "Smallest elements along the second axis: [1 3]\n"
     ]
    }
   ],
   "source": [
    "print('X:\\n{}'.format(X))\n",
    "\n",
    "#Using amax and amin\n",
    "print('Largest element in X: {}'.format(np.amax(X)))\n",
    "print('Largest elements along the first axis: {}'.format(np.amax(X, axis = 0)))\n",
    "print('Smallest element in X: {}'.format(np.amin(X)))\n",
    "print('Smallest elements along the second axis: {}'.format(np.amin(X, axis = 1)))"
   ]
  },
  {
   "cell_type": "code",
   "execution_count": 19,
   "metadata": {},
   "outputs": [
    {
     "name": "stdout",
     "output_type": "stream",
     "text": [
      "Index of the smallest element in X: 0\n",
      "Indices of the smallest elements along the first axis: [0 0]\n"
     ]
    }
   ],
   "source": [
    "#Using argmax and argmin\n",
    "print('Index of the smallest element in X: {}'.format(np.argmin(X)))\n",
    "print('Indices of the smallest elements along the first axis: {}'.format(np.argmin(X, axis = 0)))"
   ]
  },
  {
   "cell_type": "markdown",
   "metadata": {},
   "source": [
    "Another function you will find helpful is [np.sum()](https://docs.scipy.org/doc/numpy/reference/generated/numpy.sum.html). Like with np.amax, np.amin, etc. we can specify the axis along which to sum. "
   ]
  },
  {
   "cell_type": "code",
   "execution_count": 20,
   "metadata": {},
   "outputs": [
    {
     "name": "stdout",
     "output_type": "stream",
     "text": [
      "Sum of all elements in X: 10\n",
      "Sum of elements along the first axis: [4 6]\n"
     ]
    }
   ],
   "source": [
    "print('Sum of all elements in X: {}'.format(np.sum(X)))\n",
    "print('Sum of elements along the first axis: {}'.format(np.sum(X, axis = 0)))"
   ]
  },
  {
   "cell_type": "markdown",
   "metadata": {},
   "source": [
    "It can also be useful to check the optional parameters for functions if you get stuck, as many helpful details are often found there.  For example. [np.sum](https://docs.scipy.org/doc/numpy/reference/generated/numpy.sum.html) has a parameter keepdims which allows you to preserve the dimensions the sum was conducted over."
   ]
  },
  {
   "cell_type": "code",
   "execution_count": 21,
   "metadata": {},
   "outputs": [
    {
     "name": "stdout",
     "output_type": "stream",
     "text": [
      "Sum of all elements in X: [[10]]\n",
      "Sum of elements along the first axis: [[4 6]]\n"
     ]
    }
   ],
   "source": [
    "print('Sum of all elements in X: {}'.format(np.sum(X, keepdims=True)))\n",
    "print('Sum of elements along the first axis: {}'.format(np.sum(X, axis=0, keepdims=True)))"
   ]
  },
  {
   "cell_type": "markdown",
   "metadata": {},
   "source": [
    "In many cases the norm of a matrix might be called for, in which case [np.linalg.norm](https://numpy.org/doc/stable/reference/generated/numpy.linalg.norm.html) has a set of norm procedures available with the 'ord' parameter."
   ]
  },
  {
   "cell_type": "code",
   "execution_count": 22,
   "metadata": {},
   "outputs": [
    {
     "name": "stdout",
     "output_type": "stream",
     "text": [
      "Sample vector: [0 1 2 3 4 5 6 7 8 9]\n",
      "Norm of vector: 16.881943016134134\n"
     ]
    }
   ],
   "source": [
    "v = np.arange(10)\n",
    "print('Sample vector: {}'.format(v))\n",
    "print('Norm of vector: {}'.format(np.linalg.norm(v)))"
   ]
  },
  {
   "cell_type": "markdown",
   "metadata": {},
   "source": [
    "[Vstack](https://docs.scipy.org/doc/numpy/reference/generated/numpy.vstack.html) and [hstack](https://docs.scipy.org/doc/numpy/reference/generated/numpy.hstack.html) are useful for adding columns or rows to existing matrices."
   ]
  },
  {
   "cell_type": "code",
   "execution_count": 23,
   "metadata": {},
   "outputs": [
    {
     "name": "stdout",
     "output_type": "stream",
     "text": [
      "A: \n",
      "[[ 1  2  3  4]\n",
      " [ 7  8  9 10]]\n",
      "B: \n",
      "[[4 5 6 7]\n",
      " [1 2 3 4]]\n",
      "Vertical stacking concatenates vectors along the first axis:\n",
      "[[ 1  2  3  4]\n",
      " [ 7  8  9 10]\n",
      " [ 4  5  6  7]\n",
      " [ 1  2  3  4]]\n",
      "Horizontal stacking concatenates vectors along the second axis:\n",
      "[[ 1  2  3  4  4  5  6  7]\n",
      " [ 7  8  9 10  1  2  3  4]]\n"
     ]
    }
   ],
   "source": [
    "print('A: \\n{}'.format(A))\n",
    "print('B: \\n{}'.format(B))\n",
    "\n",
    "print('Vertical stacking concatenates vectors along the first axis:\\n{}'.format(np.vstack((A,B))))\n",
    "print('Horizontal stacking concatenates vectors along the second axis:\\n{}'.format(np.hstack((A,B))))"
   ]
  },
  {
   "cell_type": "markdown",
   "metadata": {},
   "source": [
    "### Exercise 2"
   ]
  },
  {
   "cell_type": "markdown",
   "metadata": {},
   "source": [
    "<p> Find the maximum elements in A along the first axis (axis = 0) and add it to the sum of elements in B along the first axis. Your output should be:</p>\n",
    "**array([12, 15, 18, 21])** </p>"
   ]
  },
  {
   "cell_type": "code",
   "execution_count": 24,
   "metadata": {},
   "outputs": [
    {
     "data": {
      "text/plain": [
       "array([12, 15, 18, 21])"
      ]
     },
     "execution_count": 24,
     "metadata": {},
     "output_type": "execute_result"
    }
   ],
   "source": [
    "###INSERT CODE HERE###\n",
    "np.amax(A, axis = 0) + np.sum(B, axis = 0)"
   ]
  },
  {
   "cell_type": "markdown",
   "metadata": {},
   "source": [
    "<h3>Element-wise Matrix Operations</h3>\n",
    "\n",
    "There are many operations that you might want to perform such as taking the square root or exponent on each element of a numpy array. Some examples of these functions are [np.exp()](https://docs.scipy.org/doc/numpy/reference/generated/numpy.exp.html), [np.sqrt()](https://docs.scipy.org/doc/numpy/reference/generated/numpy.sqrt.html), and [np.square()](https://docs.scipy.org/doc/numpy/reference/generated/numpy.square.html). There are many more numpy functions that will perform element-wise operations on numpy arrays so make sure to look them up in the official documentation."
   ]
  },
  {
   "cell_type": "code",
   "execution_count": null,
   "metadata": {
    "collapsed": true
   },
   "outputs": [],
   "source": [
    "X = np.arange(1,6,1)\n",
    "print('X: {}'.format(X))\n",
    "print('The exponential applied element-wise to X: \\n{}'.format(np.exp(X)))\n",
    "print('The square root applied element-wise to X: \\n{}'.format(np.sqrt(X)))\n",
    "print('The square applied element-wise to X: \\n{}'.format(np.square(X)))"
   ]
  },
  {
   "cell_type": "markdown",
   "metadata": {},
   "source": [
    "### Sorting Functions\n",
    "\n",
    "Numpy also has many operations for sorting its arrays, either for the whole matrix or for individual axes.  Some examples of these are [np.sort](https://numpy.org/doc/stable/reference/generated/numpy.sort.html) and [np.argsort](https://numpy.org/doc/stable/reference/generated/numpy.argsort.html).  These generally do what their names imply: sort returns the array sorted and argsort returns the indexes to sort the array.  Note that the object method [.sort()](https://numpy.org/doc/stable/reference/generated/numpy.ndarray.sort.html) does an in-place sort of the elements: be careful to do a copy on the array if you want to keep the original values somewhere!"
   ]
  },
  {
   "cell_type": "code",
   "execution_count": null,
   "metadata": {
    "collapsed": true
   },
   "outputs": [],
   "source": [
    "S = np.array([[1,4,3],[2,5,0]])\n",
    "print('Original matrix: \\n{}'.format(S))\n",
    "print('Flattened matrix: \\n{}'.format(S.flatten()))\n",
    "print('Sorting the whole matrix: \\n{}'.format(np.sort(S, axis=None)))\n",
    "print('Sorting by a specified axis (the first one): \\n{}'.format(np.sort(S, axis=0)))\n",
    "print('Sorting by the last axis: \\n{}'.format(np.sort(S)))\n",
    "print('Argsort on the whole matrix: \\n{}'.format(np.argsort(S, axis=None)))\n",
    "print('Argsort by a specified axis (the first one): \\n{}'.format(np.argsort(S, axis=0)))\n",
    "print('Argsort by the last axis: \\n{}'.format(np.argsort(S)))"
   ]
  },
  {
   "cell_type": "markdown",
   "metadata": {},
   "source": [
    "### Unique Elements\n",
    "\n",
    "Similar to how you can make a list into a set in Python to pull unique values, numpy has [np.unique](https://numpy.org/doc/stable/reference/generated/numpy.unique.html), except it returns an object of the same type (numpy array) and has the extra options of specifying axis and returning counts."
   ]
  },
  {
   "cell_type": "code",
   "execution_count": null,
   "metadata": {
    "collapsed": true
   },
   "outputs": [],
   "source": [
    "U = np.array([3,4,4,2,4,5,6,6,2])\n",
    "print('Original matrix: {}'.format(U))\n",
    "print('Unique values: {}'.format(np.unique(U)))\n",
    "print('Unique values and counts: {}'.format(np.unique(U, return_counts=True)))"
   ]
  },
  {
   "cell_type": "markdown",
   "metadata": {},
   "source": [
    "### Finding Values\n",
    "\n",
    "Sometimes you know a value is in an array, but don't know exactly where.  Instead of iterating through, you could use [np.argwhere](https://numpy.org/doc/stable/reference/generated/numpy.argwhere.html) to get all indexes that satisfy some condition."
   ]
  },
  {
   "cell_type": "code",
   "execution_count": null,
   "metadata": {
    "collapsed": true
   },
   "outputs": [],
   "source": [
    "print('Original matrix: \\n{}'.format(S))\n",
    "print('All indexes of values <= 2: \\n{}'.format(np.argwhere(S <= 2)))"
   ]
  },
  {
   "cell_type": "markdown",
   "metadata": {},
   "source": [
    "<h2>Indexing and Slicing</h2>\n",
    "<p>NumPy's array can indexed and sliced, just like python's list. For single dimension array operations: </p>"
   ]
  },
  {
   "cell_type": "code",
   "execution_count": null,
   "metadata": {
    "collapsed": true
   },
   "outputs": [],
   "source": [
    "x1 = np.arange(5)\n",
    "\n",
    "print(\"x1: {}\".format(x1))\n",
    "print(\"Indexing a single element: {}\".format(x1[3]))\n",
    "print(\"Slicing: {}\".format(x1[1:3]))  \n",
    "print(\"Slicing last two numbers: {}\".format(x1[-2:]))\n"
   ]
  },
  {
   "cell_type": "markdown",
   "metadata": {},
   "source": [
    "Another important feature with regards to slicing is that you can slice a numpy array using another numpy array.  It's worth playing around with this to see what's possible and what isn't!"
   ]
  },
  {
   "cell_type": "code",
   "execution_count": null,
   "metadata": {
    "collapsed": true
   },
   "outputs": [],
   "source": [
    "y1 = np.array([30,40,50,20,10])\n",
    "y1_slice = np.array([2,1,0])\n",
    "print(\"y1: {}\".format(y1))\n",
    "print('Indexes to slice: {}'.format(y1_slice))\n",
    "print('Returned values: {}'.format(y1[y1_slice]))\n",
    "print('Argsort on y1: {}'.format(np.argsort(y1)))\n",
    "print('y1 indexed by argsort: {}'.format(y1[np.argsort(y1)]))"
   ]
  },
  {
   "cell_type": "markdown",
   "metadata": {},
   "source": [
    "<h3> Multidimensional arrays:</h3>"
   ]
  },
  {
   "cell_type": "code",
   "execution_count": null,
   "metadata": {
    "collapsed": true
   },
   "outputs": [],
   "source": [
    "x2 = np.array([[1,2,3], [4,5,6], [7,8,9]])\n",
    "print(\"x2:\\n{}\".format(x2))\n",
    "print(\"Full slice:\\n{}\".format(x2[::])) \n",
    "print(\"Indexing an element at the first row, third column: {}\".format(x2[0,2]))\n",
    "print(\"Slicing on both axes:\\n{}\".format(x2[1:,:2]))\n",
    "print(\"Indexing by row:{}\".format(x2[0])) # Selecting the first row \n",
    "print(\"Indexing by column: {}\".format(x2[:,0])) # Selecting the first column\n",
    "\n",
    "print(\"Iterating through each row in a matrix:\")\n",
    "for row in x2:\n",
    "    print(row)"
   ]
  },
  {
   "cell_type": "markdown",
   "metadata": {},
   "source": [
    "### Exercise 3"
   ]
  },
  {
   "cell_type": "markdown",
   "metadata": {},
   "source": [
    "<p>Print the first and second row of A then the second and third column of A. </p>"
   ]
  },
  {
   "cell_type": "code",
   "execution_count": null,
   "metadata": {
    "collapsed": true
   },
   "outputs": [],
   "source": [
    "###INSERT CODE HERE###"
   ]
  },
  {
   "cell_type": "markdown",
   "metadata": {},
   "source": [
    "## Random Functions\n",
    "\n",
    "Numpy also has a wide array of functions utilizing randomization.  \n",
    "As a preliminary note, there's two ways to make replicable results when using numpy randomization: on one hand, there's [np.random.seed](https://docs.scipy.org/doc/numpy-1.15.1/reference/generated/numpy.random.seed.html) which can be run once to set the seed for the entire project; however, re-running the command will reset the seed.  On the other hand, a random generator can be directly instantiated using [np.random.default_rng](https://numpy.org/doc/stable/reference/random/generator.html).  More information can be found [here](https://towardsdatascience.com/stop-using-numpy-random-seed-581a9972805f); however, we'll be using the seed function out of simplicity."
   ]
  },
  {
   "cell_type": "markdown",
   "metadata": {},
   "source": [
    "Some functions that might be useful in this course specifically are [np.random.shuffle](https://numpy.org/doc/stable/reference/random/generated/numpy.random.shuffle.html) which shuffles an array in-place, [np.random.permutation](https://numpy.org/doc/stable/reference/random/generated/numpy.random.permutation.html) which returns a shuffled copy of an input array or shuffles a range if given an integer, and [np.random.rand](https://numpy.org/doc/stable/reference/random/generated/numpy.random.rand.html) which generates a random array of a certain shape."
   ]
  },
  {
   "cell_type": "code",
   "execution_count": null,
   "metadata": {
    "collapsed": true
   },
   "outputs": [],
   "source": [
    "np.random.seed(0)\n",
    "\n",
    "r = np.arange(10)\n",
    "print('Range 0-10: {}'.format(r))\n",
    "np.random.shuffle(r)\n",
    "print('Shuffled range: {}'.format(r))\n",
    "print('Randomly permutated range: {}'.format(np.random.permutation(10)))\n",
    "print('Randomly generated matrix: \\n{}'.format(np.random.rand(3,3)))"
   ]
  },
  {
   "cell_type": "code",
   "execution_count": null,
   "metadata": {
    "collapsed": true
   },
   "outputs": [],
   "source": []
  }
 ],
 "metadata": {
  "anaconda-cloud": {},
  "kernelspec": {
   "display_name": "Python 3",
   "language": "python",
   "name": "python3"
  },
  "language_info": {
   "codemirror_mode": {
    "name": "ipython",
    "version": 3
   },
   "file_extension": ".py",
   "mimetype": "text/x-python",
   "name": "python",
   "nbconvert_exporter": "python",
   "pygments_lexer": "ipython3",
   "version": "3.7.6"
  }
 },
 "nbformat": 4,
 "nbformat_minor": 1
}
